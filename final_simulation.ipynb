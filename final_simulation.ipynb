{
 "cells": [
  {
   "cell_type": "code",
   "execution_count": 1,
   "metadata": {},
   "outputs": [],
   "source": [
    "import life_expectancy as lf\n",
    "import stock_movements as sm"
   ]
  },
  {
   "cell_type": "code",
   "execution_count": 24,
   "metadata": {},
   "outputs": [],
   "source": [
    "# Needed Variables\n",
    "\n",
    "country = 'United States of America'\n",
    "sex = 'Male'\n",
    "age = 62.0\n",
    "\n",
    "index_of_choice = \"NDX\"\n",
    "start_balance = 100\n",
    "\n",
    "withdrawal_rate = 0.18\n",
    "\n",
    "\n",
    "\n",
    "sim_n = 500\n",
    "sim_years = 30\n"
   ]
  },
  {
   "cell_type": "code",
   "execution_count": 15,
   "metadata": {},
   "outputs": [
    {
     "name": "stderr",
     "output_type": "stream",
     "text": [
      "[*********************100%***********************]  1 of 1 completed\n"
     ]
    }
   ],
   "source": [
    "\n",
    "index_mu, index_sigma = sm.get_index_data(index_of_choice)"
   ]
  },
  {
   "cell_type": "code",
   "execution_count": 16,
   "metadata": {},
   "outputs": [],
   "source": [
    "balances, withdrawal_returns = sm.brown_motion_drift_plus_wd(start_balance, index_mu, index_sigma, \n",
    "                                                             sim_n,\n",
    "                                                             sim_years, withdrawal_rate,\n",
    "                                                             yearly_withdrawels=True,\n",
    "                                                             withdraw_after_first_year=False)\n",
    "portfolio_is_lost, portfolio_loss_idx = sm.find_zero_points(balances, sim_n)\n",
    "tot_w_before_loss = sm.total_withdrawels_before_loss(withdrawal_returns, portfolio_loss_idx, sim_n)"
   ]
  },
  {
   "cell_type": "code",
   "execution_count": 27,
   "metadata": {},
   "outputs": [
    {
     "data": {
      "text/plain": [
       "array([[  82.        ,   82.        ,   82.        , ...,   82.        ,\n",
       "          82.        ,   82.        ],\n",
       "       [  82.95323654,   82.95881156,   85.20191162, ...,   82.87760272,\n",
       "          81.5993907 ,   82.8106207 ],\n",
       "       [  83.71490523,   83.44935485,   84.18282906, ...,   84.40507597,\n",
       "          81.48722957,   83.50055811],\n",
       "       ...,\n",
       "       [ 691.22305819, 2324.19627645,  166.24142181, ...,   -7.93831805,\n",
       "        1212.4424691 ,   -8.67546323],\n",
       "       [ 684.14270093, 2317.97883302,  171.51692564, ...,  -11.03179931,\n",
       "        1237.26362763,   -4.10101308],\n",
       "       [ 698.45644247, 2394.04420418,  157.99735966, ...,  -17.91174326,\n",
       "        1233.5080372 ,   -6.92552946]])"
      ]
     },
     "execution_count": 27,
     "metadata": {},
     "output_type": "execute_result"
    }
   ],
   "source": [
    "balances"
   ]
  },
  {
   "cell_type": "code",
   "execution_count": 25,
   "metadata": {},
   "outputs": [],
   "source": [
    "survival_arr = lf.survival_arr_months(sim_years, country, age, sex)"
   ]
  },
  {
   "cell_type": "code",
   "execution_count": 26,
   "metadata": {},
   "outputs": [
    {
     "data": {
      "text/plain": [
       "False"
      ]
     },
     "execution_count": 26,
     "metadata": {},
     "output_type": "execute_result"
    }
   ],
   "source": [
    "survival_arr[-1]"
   ]
  },
  {
   "cell_type": "code",
   "execution_count": null,
   "metadata": {},
   "outputs": [],
   "source": []
  }
 ],
 "metadata": {
  "kernelspec": {
   "display_name": "Python 3",
   "language": "python",
   "name": "python3"
  },
  "language_info": {
   "codemirror_mode": {
    "name": "ipython",
    "version": 3
   },
   "file_extension": ".py",
   "mimetype": "text/x-python",
   "name": "python",
   "nbconvert_exporter": "python",
   "pygments_lexer": "ipython3",
   "version": "3.9.13"
  }
 },
 "nbformat": 4,
 "nbformat_minor": 2
}
