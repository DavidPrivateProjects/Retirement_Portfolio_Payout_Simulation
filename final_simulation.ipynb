{
 "cells": [
  {
   "cell_type": "code",
   "execution_count": 1,
   "metadata": {},
   "outputs": [],
   "source": [
    "import life_expectancy as lf\n",
    "import stock_movements as sm\n",
    "import numpy as np"
   ]
  },
  {
   "cell_type": "code",
   "execution_count": 2,
   "metadata": {},
   "outputs": [],
   "source": [
    "# Needed Variables\n",
    "\n",
    "country = 'United States of America'\n",
    "sex = 'Male'\n",
    "age = 62.0\n",
    "\n",
    "index_of_choice = \"NDX\"\n",
    "start_balance = 100\n",
    "\n",
    "withdrawal_rate = 0.18\n",
    "\n",
    "\n",
    "\n",
    "sim_n = 500\n",
    "sim_years = 30\n"
   ]
  },
  {
   "cell_type": "code",
   "execution_count": 3,
   "metadata": {},
   "outputs": [
    {
     "name": "stderr",
     "output_type": "stream",
     "text": [
      "[*********************100%***********************]  1 of 1 completed\n"
     ]
    }
   ],
   "source": [
    "index_mu, index_sigma = sm.get_index_data(index_of_choice)\n",
    "\n",
    "balances, withdrawal_returns = sm.brown_motion_drift_plus_wd(start_balance, index_mu, index_sigma, \n",
    "                                                             sim_n,\n",
    "                                                             sim_years, withdrawal_rate,\n",
    "                                                             yearly_withdrawels=True,\n",
    "                                                             withdraw_after_first_year=False)\n",
    "portfolio_is_lost, portfolio_loss_idx = sm.find_zero_points(balances, sim_n)\n",
    "tot_w_before_loss = sm.total_withdrawels_before_loss(withdrawal_returns, portfolio_loss_idx, sim_n)\n",
    "\n",
    "survival_arr = lf.survival_sim(sim_years, country, age, sex, sim_n)"
   ]
  },
  {
   "cell_type": "code",
   "execution_count": 4,
   "metadata": {},
   "outputs": [],
   "source": [
    "# Next steps: Write function that determines, if death of person comes before death of portfolio\n",
    "# Display success probability (probability that portfolio survives person)\n",
    "# Display and calculate average payout before death"
   ]
  },
  {
   "cell_type": "code",
   "execution_count": 5,
   "metadata": {},
   "outputs": [],
   "source": [
    "for i in range(5):\n",
    "    death_index = lf.death_ind(survival_arr[:, i])\n",
    "    if portfolio_loss_idx[i] != -1 and death_index != -1: # Portfolio is lost at some point and person dies at some point!\n",
    "        pass\n",
    "\n",
    "    elif death_index != -1: # Person dies at some point but portfolio survives!\n",
    "        pass\n",
    "    \n",
    "    elif portfolio_loss_idx != -1: # Person survives, but portfolio is lost at some point!\n",
    "        pass\n",
    "\n",
    "    else: # Person and Portfolio survive the simulation!\n",
    "        # DAS WEMER EIGENTLICH NöD, DENN Müsst d'Simulation wieter gah!!!\n",
    "        pass\n",
    "\n"
   ]
  },
  {
   "cell_type": "code",
   "execution_count": null,
   "metadata": {},
   "outputs": [],
   "source": [
    "# Next steps:\n",
    "# Finish collecting all the inputs and load them into the model!\n",
    "# return a plot\n",
    "# make the plot interactive\n",
    "# create a second plot that shows a line selected in the first plot\n",
    "#use custom style sheet for page\n",
    "# make everything beautiful!\n",
    "# -> download the WHO data and only update it periodically, so the load on the program is much smaller! "
   ]
  }
 ],
 "metadata": {
  "kernelspec": {
   "display_name": "Python 3",
   "language": "python",
   "name": "python3"
  },
  "language_info": {
   "codemirror_mode": {
    "name": "ipython",
    "version": 3
   },
   "file_extension": ".py",
   "mimetype": "text/x-python",
   "name": "python",
   "nbconvert_exporter": "python",
   "pygments_lexer": "ipython3",
   "version": "3.9.13"
  }
 },
 "nbformat": 4,
 "nbformat_minor": 2
}
