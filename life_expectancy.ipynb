{
 "cells": [
  {
   "cell_type": "code",
   "execution_count": null,
   "metadata": {},
   "outputs": [],
   "source": [
    "# https://medium.com/towards-data-science/time-left-to-live-modeling-life-expectancy-and-prototyping-it-on-the-web-with-flask-and-68e3a8fa0fe4"
   ]
  },
  {
   "cell_type": "code",
   "execution_count": 1,
   "metadata": {},
   "outputs": [],
   "source": [
    "# Data: World Health Organization (WHO) Global Health Observatory Data"
   ]
  },
  {
   "cell_type": "code",
   "execution_count": 2,
   "metadata": {},
   "outputs": [],
   "source": [
    "import pandas as pd\n",
    "import matplotlib.pyplot as plt\n",
    "\n",
    "# create fictitious data set\n",
    "simple_life_dataset = pd.DataFrame({'Age' : [0, 60], 'Life Expectancy' : [90, 30]})"
   ]
  },
  {
   "cell_type": "code",
   "execution_count": 3,
   "metadata": {},
   "outputs": [
    {
     "data": {
      "text/html": [
       "<div>\n",
       "<style scoped>\n",
       "    .dataframe tbody tr th:only-of-type {\n",
       "        vertical-align: middle;\n",
       "    }\n",
       "\n",
       "    .dataframe tbody tr th {\n",
       "        vertical-align: top;\n",
       "    }\n",
       "\n",
       "    .dataframe thead th {\n",
       "        text-align: right;\n",
       "    }\n",
       "</style>\n",
       "<table border=\"1\" class=\"dataframe\">\n",
       "  <thead>\n",
       "    <tr style=\"text-align: right;\">\n",
       "      <th></th>\n",
       "      <th>Age</th>\n",
       "      <th>Life Expectancy</th>\n",
       "    </tr>\n",
       "  </thead>\n",
       "  <tbody>\n",
       "    <tr>\n",
       "      <th>0</th>\n",
       "      <td>0</td>\n",
       "      <td>90</td>\n",
       "    </tr>\n",
       "    <tr>\n",
       "      <th>1</th>\n",
       "      <td>60</td>\n",
       "      <td>30</td>\n",
       "    </tr>\n",
       "  </tbody>\n",
       "</table>\n",
       "</div>"
      ],
      "text/plain": [
       "   Age  Life Expectancy\n",
       "0    0               90\n",
       "1   60               30"
      ]
     },
     "execution_count": 3,
     "metadata": {},
     "output_type": "execute_result"
    }
   ],
   "source": [
    "simple_life_dataset.head()"
   ]
  },
  {
   "cell_type": "code",
   "execution_count": 4,
   "metadata": {},
   "outputs": [],
   "source": [
    "import numpy as np\n",
    "from scipy import stats\n",
    "\n",
    "slope, intercept, r_value, p_value, std_err = stats.linregress(simple_life_dataset['Age'], \n",
    "                                                               simple_life_dataset['Life Expectancy'])"
   ]
  },
  {
   "cell_type": "code",
   "execution_count": 5,
   "metadata": {},
   "outputs": [
    {
     "name": "stdout",
     "output_type": "stream",
     "text": [
      "intercept 90.0\n",
      "slope -1.0\n"
     ]
    }
   ],
   "source": [
    "print(\"intercept\", intercept)\n",
    "print(\"slope\", slope)"
   ]
  },
  {
   "cell_type": "code",
   "execution_count": 6,
   "metadata": {},
   "outputs": [
    {
     "data": {
      "text/plain": [
       "70.0"
      ]
     },
     "execution_count": 6,
     "metadata": {},
     "output_type": "execute_result"
    }
   ],
   "source": [
    "slope * 20 + intercept"
   ]
  },
  {
   "cell_type": "code",
   "execution_count": 21,
   "metadata": {},
   "outputs": [],
   "source": [
    "# load WHO longevity data\n",
    "who_list_1 = pd.read_csv('https://apps.who.int/gho/athena/data/GHO/WHOSIS_000001,WHOSIS_000015?filter=COUNTRY:*&x-sideaxis=COUNTRY;YEAR&x-topaxis=GHO;SEX&profile=verbose&format=csv')\n",
    "who_list_2 = pd.read_csv('https://apps.who.int/gho/athena/data/GHO/WHOSIS_000001,WHOSIS_000002,WHOSIS_000003,WHOSIS_000004,WHOSIS_000015?filter=COUNTRY:*&x-sideaxis=COUNTRY;YEAR&x-topaxis=GHO;SEX&profile=verbose&format=csv')"
   ]
  },
  {
   "cell_type": "code",
   "execution_count": 22,
   "metadata": {},
   "outputs": [],
   "source": [
    "#who_list.to_csv('WHOSIS_000001,WHOSIS_000002,WHOSIS_000015.csv')"
   ]
  },
  {
   "cell_type": "code",
   "execution_count": 23,
   "metadata": {},
   "outputs": [
    {
     "data": {
      "text/html": [
       "<div>\n",
       "<style scoped>\n",
       "    .dataframe tbody tr th:only-of-type {\n",
       "        vertical-align: middle;\n",
       "    }\n",
       "\n",
       "    .dataframe tbody tr th {\n",
       "        vertical-align: top;\n",
       "    }\n",
       "\n",
       "    .dataframe thead th {\n",
       "        text-align: right;\n",
       "    }\n",
       "</style>\n",
       "<table border=\"1\" class=\"dataframe\">\n",
       "  <thead>\n",
       "    <tr style=\"text-align: right;\">\n",
       "      <th></th>\n",
       "      <th>GHO (DISPLAY)</th>\n",
       "      <th>YEAR (CODE)</th>\n",
       "      <th>COUNTRY (DISPLAY)</th>\n",
       "      <th>SEX (DISPLAY)</th>\n",
       "      <th>Numeric</th>\n",
       "    </tr>\n",
       "  </thead>\n",
       "  <tbody>\n",
       "    <tr>\n",
       "      <th>0</th>\n",
       "      <td>Life expectancy at age 60 (years)</td>\n",
       "      <td>2000</td>\n",
       "      <td>Afghanistan</td>\n",
       "      <td>Male</td>\n",
       "      <td>13.63259</td>\n",
       "    </tr>\n",
       "    <tr>\n",
       "      <th>1</th>\n",
       "      <td>Life expectancy at birth (years)</td>\n",
       "      <td>2010</td>\n",
       "      <td>Afghanistan</td>\n",
       "      <td>Male</td>\n",
       "      <td>59.60036</td>\n",
       "    </tr>\n",
       "    <tr>\n",
       "      <th>2</th>\n",
       "      <td>Healthy life expectancy (HALE) at birth (years)</td>\n",
       "      <td>2015</td>\n",
       "      <td>Afghanistan</td>\n",
       "      <td>Male</td>\n",
       "      <td>52.78430</td>\n",
       "    </tr>\n",
       "    <tr>\n",
       "      <th>3</th>\n",
       "      <td>Life expectancy at age 60 (years)</td>\n",
       "      <td>2000</td>\n",
       "      <td>Afghanistan</td>\n",
       "      <td>Female</td>\n",
       "      <td>14.20647</td>\n",
       "    </tr>\n",
       "    <tr>\n",
       "      <th>4</th>\n",
       "      <td>Life expectancy at birth (years)</td>\n",
       "      <td>2010</td>\n",
       "      <td>Afghanistan</td>\n",
       "      <td>Female</td>\n",
       "      <td>60.29720</td>\n",
       "    </tr>\n",
       "    <tr>\n",
       "      <th>5</th>\n",
       "      <td>Healthy life expectancy (HALE) at birth (years)</td>\n",
       "      <td>2019</td>\n",
       "      <td>Afghanistan</td>\n",
       "      <td>Female</td>\n",
       "      <td>53.15305</td>\n",
       "    </tr>\n",
       "    <tr>\n",
       "      <th>6</th>\n",
       "      <td>Life expectancy at age 60 (years)</td>\n",
       "      <td>2000</td>\n",
       "      <td>Afghanistan</td>\n",
       "      <td>Both sexes</td>\n",
       "      <td>13.92182</td>\n",
       "    </tr>\n",
       "    <tr>\n",
       "      <th>7</th>\n",
       "      <td>Life expectancy at birth (years)</td>\n",
       "      <td>2010</td>\n",
       "      <td>Afghanistan</td>\n",
       "      <td>Both sexes</td>\n",
       "      <td>59.94055</td>\n",
       "    </tr>\n",
       "    <tr>\n",
       "      <th>8</th>\n",
       "      <td>Life expectancy at age 60 (years)</td>\n",
       "      <td>2010</td>\n",
       "      <td>Afghanistan</td>\n",
       "      <td>Both sexes</td>\n",
       "      <td>15.12046</td>\n",
       "    </tr>\n",
       "    <tr>\n",
       "      <th>9</th>\n",
       "      <td>Healthy life expectancy (HALE) at birth (years)</td>\n",
       "      <td>2019</td>\n",
       "      <td>Afghanistan</td>\n",
       "      <td>Both sexes</td>\n",
       "      <td>53.94961</td>\n",
       "    </tr>\n",
       "  </tbody>\n",
       "</table>\n",
       "</div>"
      ],
      "text/plain": [
       "                                     GHO (DISPLAY)  YEAR (CODE)  \\\n",
       "0                Life expectancy at age 60 (years)         2000   \n",
       "1                 Life expectancy at birth (years)         2010   \n",
       "2  Healthy life expectancy (HALE) at birth (years)         2015   \n",
       "3                Life expectancy at age 60 (years)         2000   \n",
       "4                 Life expectancy at birth (years)         2010   \n",
       "5  Healthy life expectancy (HALE) at birth (years)         2019   \n",
       "6                Life expectancy at age 60 (years)         2000   \n",
       "7                 Life expectancy at birth (years)         2010   \n",
       "8                Life expectancy at age 60 (years)         2010   \n",
       "9  Healthy life expectancy (HALE) at birth (years)         2019   \n",
       "\n",
       "  COUNTRY (DISPLAY) SEX (DISPLAY)   Numeric  \n",
       "0       Afghanistan          Male  13.63259  \n",
       "1       Afghanistan          Male  59.60036  \n",
       "2       Afghanistan          Male  52.78430  \n",
       "3       Afghanistan        Female  14.20647  \n",
       "4       Afghanistan        Female  60.29720  \n",
       "5       Afghanistan        Female  53.15305  \n",
       "6       Afghanistan    Both sexes  13.92182  \n",
       "7       Afghanistan    Both sexes  59.94055  \n",
       "8       Afghanistan    Both sexes  15.12046  \n",
       "9       Afghanistan    Both sexes  53.94961  "
      ]
     },
     "execution_count": 23,
     "metadata": {},
     "output_type": "execute_result"
    }
   ],
   "source": [
    "# Keep only useful features fix case display of country text\n",
    "who_list_1 = who_list[[\"GHO (DISPLAY)\", \"YEAR (CODE)\", \"COUNTRY (DISPLAY)\",\n",
    "                     \"SEX (DISPLAY)\", \"Numeric\"]]\n",
    "\n",
    "who_list_1['COUNTRY (DISPLAY)'] = [ctry.title() for ctry in who_list['COUNTRY (DISPLAY)'].values]\n",
    "\n",
    "who_list_1.head(10)"
   ]
  },
  {
   "cell_type": "code",
   "execution_count": 20,
   "metadata": {},
   "outputs": [
    {
     "data": {
      "text/html": [
       "<div>\n",
       "<style scoped>\n",
       "    .dataframe tbody tr th:only-of-type {\n",
       "        vertical-align: middle;\n",
       "    }\n",
       "\n",
       "    .dataframe tbody tr th {\n",
       "        vertical-align: top;\n",
       "    }\n",
       "\n",
       "    .dataframe thead th {\n",
       "        text-align: right;\n",
       "    }\n",
       "</style>\n",
       "<table border=\"1\" class=\"dataframe\">\n",
       "  <thead>\n",
       "    <tr style=\"text-align: right;\">\n",
       "      <th></th>\n",
       "      <th>GHO (DISPLAY)</th>\n",
       "      <th>YEAR (CODE)</th>\n",
       "      <th>COUNTRY (DISPLAY)</th>\n",
       "      <th>SEX (DISPLAY)</th>\n",
       "      <th>Numeric</th>\n",
       "    </tr>\n",
       "  </thead>\n",
       "  <tbody>\n",
       "    <tr>\n",
       "      <th>336</th>\n",
       "      <td>Life expectancy at birth (years)</td>\n",
       "      <td>2010</td>\n",
       "      <td>France</td>\n",
       "      <td>Male</td>\n",
       "      <td>77.96297</td>\n",
       "    </tr>\n",
       "    <tr>\n",
       "      <th>337</th>\n",
       "      <td>Life expectancy at age 60 (years)</td>\n",
       "      <td>2010</td>\n",
       "      <td>France</td>\n",
       "      <td>Male</td>\n",
       "      <td>22.34975</td>\n",
       "    </tr>\n",
       "    <tr>\n",
       "      <th>338</th>\n",
       "      <td>Life expectancy at birth (years)</td>\n",
       "      <td>2010</td>\n",
       "      <td>France</td>\n",
       "      <td>Female</td>\n",
       "      <td>84.34424</td>\n",
       "    </tr>\n",
       "    <tr>\n",
       "      <th>339</th>\n",
       "      <td>Life expectancy at age 60 (years)</td>\n",
       "      <td>2010</td>\n",
       "      <td>France</td>\n",
       "      <td>Female</td>\n",
       "      <td>26.76762</td>\n",
       "    </tr>\n",
       "    <tr>\n",
       "      <th>340</th>\n",
       "      <td>Life expectancy at birth (years)</td>\n",
       "      <td>2015</td>\n",
       "      <td>France</td>\n",
       "      <td>Female</td>\n",
       "      <td>84.71786</td>\n",
       "    </tr>\n",
       "    <tr>\n",
       "      <th>341</th>\n",
       "      <td>Life expectancy at age 60 (years)</td>\n",
       "      <td>2010</td>\n",
       "      <td>France</td>\n",
       "      <td>Both sexes</td>\n",
       "      <td>24.70755</td>\n",
       "    </tr>\n",
       "    <tr>\n",
       "      <th>342</th>\n",
       "      <td>Life expectancy at birth (years)</td>\n",
       "      <td>2015</td>\n",
       "      <td>France</td>\n",
       "      <td>Both sexes</td>\n",
       "      <td>81.91320</td>\n",
       "    </tr>\n",
       "    <tr>\n",
       "      <th>745</th>\n",
       "      <td>Life expectancy at birth (years)</td>\n",
       "      <td>2019</td>\n",
       "      <td>France</td>\n",
       "      <td>Male</td>\n",
       "      <td>79.75678</td>\n",
       "    </tr>\n",
       "    <tr>\n",
       "      <th>746</th>\n",
       "      <td>Life expectancy at age 60 (years)</td>\n",
       "      <td>2019</td>\n",
       "      <td>France</td>\n",
       "      <td>Male</td>\n",
       "      <td>23.27017</td>\n",
       "    </tr>\n",
       "    <tr>\n",
       "      <th>747</th>\n",
       "      <td>Life expectancy at age 60 (years)</td>\n",
       "      <td>2019</td>\n",
       "      <td>France</td>\n",
       "      <td>Female</td>\n",
       "      <td>27.21364</td>\n",
       "    </tr>\n",
       "  </tbody>\n",
       "</table>\n",
       "</div>"
      ],
      "text/plain": [
       "                         GHO (DISPLAY)  YEAR (CODE) COUNTRY (DISPLAY)  \\\n",
       "336   Life expectancy at birth (years)         2010            France   \n",
       "337  Life expectancy at age 60 (years)         2010            France   \n",
       "338   Life expectancy at birth (years)         2010            France   \n",
       "339  Life expectancy at age 60 (years)         2010            France   \n",
       "340   Life expectancy at birth (years)         2015            France   \n",
       "341  Life expectancy at age 60 (years)         2010            France   \n",
       "342   Life expectancy at birth (years)         2015            France   \n",
       "745   Life expectancy at birth (years)         2019            France   \n",
       "746  Life expectancy at age 60 (years)         2019            France   \n",
       "747  Life expectancy at age 60 (years)         2019            France   \n",
       "\n",
       "    SEX (DISPLAY)   Numeric  \n",
       "336          Male  77.96297  \n",
       "337          Male  22.34975  \n",
       "338        Female  84.34424  \n",
       "339        Female  26.76762  \n",
       "340        Female  84.71786  \n",
       "341    Both sexes  24.70755  \n",
       "342    Both sexes  81.91320  \n",
       "745          Male  79.75678  \n",
       "746          Male  23.27017  \n",
       "747        Female  27.21364  "
      ]
     },
     "execution_count": 20,
     "metadata": {},
     "output_type": "execute_result"
    }
   ],
   "source": [
    "who_list[who_list['COUNTRY (DISPLAY)'] == 'France'].head(10)"
   ]
  },
  {
   "cell_type": "code",
   "execution_count": null,
   "metadata": {},
   "outputs": [],
   "source": []
  }
 ],
 "metadata": {
  "kernelspec": {
   "display_name": "Python 3",
   "language": "python",
   "name": "python3"
  },
  "language_info": {
   "codemirror_mode": {
    "name": "ipython",
    "version": 3
   },
   "file_extension": ".py",
   "mimetype": "text/x-python",
   "name": "python",
   "nbconvert_exporter": "python",
   "pygments_lexer": "ipython3",
   "version": "3.9.13"
  }
 },
 "nbformat": 4,
 "nbformat_minor": 2
}
