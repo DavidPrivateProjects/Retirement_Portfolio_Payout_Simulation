{
 "cells": [
  {
   "cell_type": "code",
   "execution_count": 94,
   "metadata": {},
   "outputs": [],
   "source": [
    "# Data Sources: World Health Organization (WHO) Global Health Observatory Data / http://pophealthmetrics.biomedcentral.com/articles/10.1186/s12963-016-0094-0#Sec7"
   ]
  },
  {
   "cell_type": "code",
   "execution_count": 95,
   "metadata": {},
   "outputs": [],
   "source": [
    "import pandas as pd\n",
    "from scipy import stats\n",
    "import random\n",
    "import numpy as np"
   ]
  },
  {
   "cell_type": "code",
   "execution_count": null,
   "metadata": {},
   "outputs": [],
   "source": [
    "# Note: Only allow countries to be selected that have data for both sexes!\n",
    "def get_countries():\n",
    "    # load WHO longevity data\n",
    "    life_exp_data = pd.read_csv('https://apps.who.int/gho/athena/data/GHO/WHOSIS_000001,WHOSIS_000015?filter=COUNTRY:*&x-sideaxis=COUNTRY;YEAR&x-topaxis=GHO;SEX&profile=verbose&format=csv')\n",
    "    # Keep only useful features fix case display of country text\n",
    "    life_exp_data = life_exp_data[[\"GHO (DISPLAY)\", \"YEAR (CODE)\", \"COUNTRY (DISPLAY)\", \n",
    "                                   \"SEX (DISPLAY)\", \"Numeric\"]]\n",
    "    \n",
    "    sub_data_male = life_exp_data[life_exp_data['SEX (DISPLAY)'] == \"Male\"]\n",
    "    sub_data_female = life_exp_data[life_exp_data['SEX (DISPLAY)'] == \"Female\"]\n",
    "\n",
    "    unique_m_countries = sub_data_male['COUNTRY (DISPLAY)'].unique()\n",
    "    unique_f_countries = sub_data_female['COUNTRY (DISPLAY)'].unique()\n",
    "\n",
    "    unique_countries = np.intersect1d(unique_m_countries, unique_f_countries)\n",
    "\n",
    "    return unique_countries\n",
    "\n",
    "\n",
    "def get_life_exp_vals(country, sex,\n",
    "                        STD_MALES=5.6, STD_FEMALES=3.6):\n",
    "    # load WHO longevity data\n",
    "    life_exp_data = pd.read_csv('https://apps.who.int/gho/athena/data/GHO/WHOSIS_000001,WHOSIS_000015?filter=COUNTRY:*&x-sideaxis=COUNTRY;YEAR&x-topaxis=GHO;SEX&profile=verbose&format=csv')\n",
    "    # Keep only useful features fix case display of country text\n",
    "    life_exp_data = life_exp_data[[\"GHO (DISPLAY)\", \"YEAR (CODE)\", \"COUNTRY (DISPLAY)\", \n",
    "                                   \"SEX (DISPLAY)\", \"Numeric\"]]\n",
    "\n",
    "    sub_data = life_exp_data[life_exp_data[\"COUNTRY (DISPLAY)\"] == country]\n",
    "    sub_data = sub_data[sub_data['SEX (DISPLAY)'] == sex]\n",
    "\n",
    "\n",
    "    sub_data.sort_values(by='YEAR (CODE)', ascending=False, inplace=True)\n",
    "    birth_expectancy = sub_data[sub_data['GHO (DISPLAY)'] == \"Life expectancy at birth (years)\"].values[0][-1]\n",
    "    sixty_year_expectancy = sub_data[sub_data['GHO (DISPLAY)'] == \"Life expectancy at age 60 (years)\"].values[0][-1]\n",
    "    ages = [0,60]\n",
    "    life_expectancies = [birth_expectancy, sixty_year_expectancy]\n",
    "    slope, intercept, _, _, _ = stats.linregress(ages, life_expectancies)\n",
    "\n",
    "\n",
    "\n",
    "    life_std = STD_MALES if sex == 'Male' else STD_FEMALES\n",
    "    return slope, intercept, life_std\n",
    "\n",
    "\n",
    "def surv_prob_next_year(age, life_slope, life_intercept, life_std):\n",
    "    life_mean = life_slope * age + life_intercept + age\n",
    "    prob_survival_till_now = 1 - stats.norm.cdf(age, loc=life_mean, scale=life_std)\n",
    "    prob_survival_next_year = 1 - stats.norm.cdf(age + 1, loc=life_mean, scale=life_std)\n",
    "    return prob_survival_next_year / prob_survival_till_now, age + 1\n",
    "\n",
    "def surv_prob_next_month(age, life_slope, life_intercept, life_std):\n",
    "    life_mean = life_slope * age + life_intercept + age\n",
    "    prob_survival_till_now = 1 - stats.norm.cdf(age, loc=life_mean, scale=life_std)\n",
    "    prob_survival_next_month = 1 - stats.norm.cdf(age + (1 / 12), loc=life_mean, scale=life_std)\n",
    "    return prob_survival_next_month / prob_survival_till_now, age + (1 / 12)\n",
    "\n",
    "\n",
    "def surv_decision(prob):\n",
    "    return random.random() < prob\n",
    "\n",
    "\n",
    "def survival_arr_m(sim_years, age, life_slope, life_intercept, life_std):\n",
    "    \n",
    "    res_arr = []\n",
    "    year = 0\n",
    "    while year < sim_years:\n",
    "        for month in range(0, 12): # Iterate through all the months!\n",
    "            prob, age = surv_prob_next_month(age, life_slope, life_intercept, life_std)\n",
    "            res = surv_decision(prob)\n",
    "            if res == False:\n",
    "                res_arr.extend([False] * (12 - month))\n",
    "                res_arr.extend([False] * (sim_years - year - 1) * (12))\n",
    "                return res_arr\n",
    "            else:\n",
    "                res_arr.append(True)\n",
    "        \n",
    "        if res_arr[-1] == False:\n",
    "            res_arr.extend([False] * (sim_years - year) * 12)\n",
    "            return res_arr\n",
    "        \n",
    "        year += 1\n",
    "    \n",
    "    return res_arr \n",
    "\n",
    "\n",
    "def survival_sim(sim_years, country, age, sex, sim_n):\n",
    "    res_array = []\n",
    "    life_slope, life_intercept, life_std = get_life_exp_vals(country, sex)\n",
    "\n",
    "    for _ in range(sim_n):\n",
    "        curr_res = survival_arr_m(sim_years, age, life_slope, life_intercept, life_std)\n",
    "        res_array.append(curr_res)\n",
    "\n",
    "    res_array = np.array(res_array)\n",
    "    return  np.transpose(res_array)\n",
    "\n",
    "def death_ind(surr_arr):\n",
    "    res = np.where(surr_arr == False)[0]\n",
    "    if len(res) == 0:\n",
    "        return -1\n",
    "    return res[0]"
   ]
  },
  {
   "cell_type": "code",
   "execution_count": 97,
   "metadata": {},
   "outputs": [],
   "source": [
    "country = 'United States of America'\n",
    "sex = 'Male'\n",
    "age = 75.0\n",
    "life_slope, life_intercept, life_std = get_life_exp_vals(country, sex)\n",
    "sim_n = 500\n",
    "sim_years = 15"
   ]
  },
  {
   "cell_type": "code",
   "execution_count": 98,
   "metadata": {},
   "outputs": [],
   "source": [
    "surr_arr_m = survival_sim(sim_years, country, age, sex, sim_n)"
   ]
  },
  {
   "cell_type": "code",
   "execution_count": 99,
   "metadata": {},
   "outputs": [
    {
     "data": {
      "text/plain": [
       "array([ True,  True,  True,  True,  True,  True,  True,  True,  True,\n",
       "        True,  True,  True,  True,  True,  True,  True,  True,  True,\n",
       "        True,  True,  True,  True,  True,  True,  True,  True,  True,\n",
       "        True,  True,  True,  True,  True,  True,  True,  True,  True,\n",
       "        True,  True,  True,  True,  True,  True,  True,  True,  True,\n",
       "        True,  True,  True,  True,  True,  True,  True,  True,  True,\n",
       "        True,  True,  True,  True,  True,  True,  True,  True,  True,\n",
       "        True,  True,  True,  True,  True,  True,  True,  True,  True,\n",
       "        True,  True,  True,  True,  True, False, False, False, False,\n",
       "       False, False, False, False, False, False, False, False, False,\n",
       "       False, False, False, False, False, False, False, False, False,\n",
       "       False, False, False, False, False, False, False, False, False,\n",
       "       False, False, False, False, False, False, False, False, False,\n",
       "       False, False, False, False, False, False, False, False, False,\n",
       "       False, False, False, False, False, False, False, False, False,\n",
       "       False, False, False, False, False, False, False, False, False,\n",
       "       False, False, False, False, False, False, False, False, False,\n",
       "       False, False, False, False, False, False, False, False, False,\n",
       "       False, False, False, False, False, False, False, False, False,\n",
       "       False, False, False, False, False, False, False, False, False])"
      ]
     },
     "execution_count": 99,
     "metadata": {},
     "output_type": "execute_result"
    }
   ],
   "source": [
    "surr_arr_m[:, 15]"
   ]
  },
  {
   "cell_type": "code",
   "execution_count": 100,
   "metadata": {},
   "outputs": [
    {
     "data": {
      "text/plain": [
       "77"
      ]
     },
     "execution_count": 100,
     "metadata": {},
     "output_type": "execute_result"
    }
   ],
   "source": [
    "death_ind(surr_arr_m[:, 15])"
   ]
  },
  {
   "cell_type": "code",
   "execution_count": 101,
   "metadata": {},
   "outputs": [
    {
     "data": {
      "text/plain": [
       "180"
      ]
     },
     "execution_count": 101,
     "metadata": {},
     "output_type": "execute_result"
    }
   ],
   "source": [
    "15 * 12"
   ]
  },
  {
   "cell_type": "code",
   "execution_count": 102,
   "metadata": {},
   "outputs": [
    {
     "data": {
      "text/plain": [
       "array([ True,  True,  True,  True,  True,  True,  True,  True,  True,\n",
       "        True,  True,  True,  True,  True,  True,  True,  True,  True,\n",
       "        True,  True,  True,  True,  True,  True,  True,  True,  True,\n",
       "        True,  True,  True,  True,  True,  True,  True,  True,  True,\n",
       "        True,  True,  True,  True,  True,  True,  True,  True,  True,\n",
       "        True,  True,  True,  True,  True,  True,  True,  True,  True,\n",
       "        True,  True,  True,  True,  True,  True,  True,  True,  True,\n",
       "        True,  True,  True,  True,  True,  True,  True,  True,  True,\n",
       "        True,  True,  True,  True,  True, False, False, False, False,\n",
       "       False, False, False, False, False, False, False, False, False,\n",
       "       False, False, False, False, False, False, False, False, False,\n",
       "       False, False, False, False, False, False, False, False, False,\n",
       "       False, False, False, False, False, False, False, False, False,\n",
       "       False, False, False, False, False, False, False, False, False,\n",
       "       False, False, False, False, False, False, False, False, False,\n",
       "       False, False, False, False, False, False, False, False, False,\n",
       "       False, False, False, False, False, False, False, False, False,\n",
       "       False, False, False, False, False, False, False, False, False,\n",
       "       False, False, False, False, False, False, False, False, False,\n",
       "       False, False, False, False, False, False, False, False, False])"
      ]
     },
     "execution_count": 102,
     "metadata": {},
     "output_type": "execute_result"
    }
   ],
   "source": [
    "surr_arr_m[:, 15]"
   ]
  },
  {
   "cell_type": "code",
   "execution_count": 103,
   "metadata": {},
   "outputs": [],
   "source": [
    "life_slope, life_intercept, life_std = get_life_exp_vals(country, sex)\n",
    "curr_res = np.array(survival_arr_m(sim_years, age, life_slope, life_intercept, life_std))"
   ]
  },
  {
   "cell_type": "code",
   "execution_count": 104,
   "metadata": {},
   "outputs": [
    {
     "data": {
      "text/plain": [
       "array([ True,  True,  True,  True,  True,  True,  True,  True,  True,\n",
       "        True,  True,  True,  True,  True,  True,  True,  True,  True,\n",
       "        True,  True,  True,  True,  True,  True,  True,  True,  True,\n",
       "        True,  True,  True,  True,  True,  True,  True,  True,  True,\n",
       "        True,  True,  True,  True,  True,  True,  True,  True,  True,\n",
       "        True,  True,  True,  True,  True,  True,  True,  True,  True,\n",
       "        True,  True,  True,  True,  True,  True,  True,  True,  True,\n",
       "        True,  True,  True,  True,  True,  True,  True,  True,  True,\n",
       "        True,  True,  True,  True,  True,  True,  True,  True,  True,\n",
       "        True,  True,  True,  True,  True,  True,  True,  True,  True,\n",
       "        True,  True, False, False, False, False, False, False, False,\n",
       "       False, False, False, False, False, False, False, False, False,\n",
       "       False, False, False, False, False, False, False, False, False,\n",
       "       False, False, False, False, False, False, False, False, False,\n",
       "       False, False, False, False, False, False, False, False, False,\n",
       "       False, False, False, False, False, False, False, False, False,\n",
       "       False, False, False, False, False, False, False, False, False,\n",
       "       False, False, False, False, False, False, False, False, False,\n",
       "       False, False, False, False, False, False, False, False, False,\n",
       "       False, False, False, False, False, False, False, False, False])"
      ]
     },
     "execution_count": 104,
     "metadata": {},
     "output_type": "execute_result"
    }
   ],
   "source": [
    "curr_res"
   ]
  },
  {
   "cell_type": "code",
   "execution_count": 105,
   "metadata": {},
   "outputs": [],
   "source": [
    "surr_arr_m = np.transpose(surr_arr_m)"
   ]
  },
  {
   "cell_type": "code",
   "execution_count": 106,
   "metadata": {},
   "outputs": [
    {
     "data": {
      "text/plain": [
       "array([ True,  True,  True,  True,  True,  True,  True,  True,  True,\n",
       "        True,  True,  True,  True,  True,  True,  True,  True, False,\n",
       "        True,  True,  True,  True,  True,  True,  True,  True,  True,\n",
       "        True,  True,  True,  True,  True,  True,  True,  True,  True,\n",
       "        True,  True,  True,  True,  True,  True,  True,  True,  True,\n",
       "        True,  True,  True,  True,  True,  True,  True,  True,  True,\n",
       "        True,  True,  True,  True,  True,  True,  True,  True,  True,\n",
       "        True,  True,  True,  True,  True,  True,  True,  True,  True,\n",
       "        True,  True,  True,  True,  True,  True,  True,  True,  True,\n",
       "        True,  True,  True,  True,  True,  True,  True,  True,  True,\n",
       "        True,  True,  True,  True,  True,  True,  True,  True,  True,\n",
       "        True,  True,  True,  True,  True,  True,  True,  True,  True,\n",
       "        True,  True,  True,  True,  True,  True,  True,  True,  True,\n",
       "        True,  True,  True,  True,  True,  True,  True,  True,  True,\n",
       "        True,  True,  True,  True,  True,  True,  True,  True,  True,\n",
       "        True,  True,  True,  True,  True,  True,  True,  True,  True,\n",
       "        True,  True,  True,  True,  True,  True, False,  True,  True,\n",
       "        True,  True,  True, False,  True,  True,  True, False,  True,\n",
       "        True,  True,  True,  True,  True,  True, False,  True,  True,\n",
       "        True,  True,  True,  True,  True,  True,  True,  True,  True,\n",
       "        True,  True, False,  True,  True,  True,  True,  True,  True,\n",
       "        True,  True,  True,  True,  True,  True,  True,  True,  True,\n",
       "        True,  True,  True,  True,  True,  True,  True,  True,  True,\n",
       "        True,  True,  True,  True,  True,  True,  True,  True,  True,\n",
       "        True,  True,  True,  True,  True,  True,  True,  True,  True,\n",
       "        True,  True,  True,  True,  True,  True,  True,  True,  True,\n",
       "        True,  True,  True,  True,  True,  True,  True,  True,  True,\n",
       "        True,  True,  True,  True,  True,  True,  True,  True,  True,\n",
       "        True,  True,  True,  True,  True,  True,  True,  True,  True,\n",
       "        True,  True, False,  True,  True,  True,  True,  True,  True,\n",
       "        True,  True,  True,  True,  True,  True,  True,  True,  True,\n",
       "        True,  True,  True,  True,  True,  True,  True,  True,  True,\n",
       "        True,  True,  True, False,  True,  True,  True,  True,  True,\n",
       "        True,  True,  True,  True,  True,  True,  True,  True,  True,\n",
       "        True,  True, False,  True,  True,  True,  True,  True,  True,\n",
       "        True,  True,  True,  True,  True,  True,  True,  True,  True,\n",
       "        True,  True,  True,  True,  True,  True,  True,  True,  True,\n",
       "        True,  True,  True,  True,  True,  True, False,  True,  True,\n",
       "        True, False,  True,  True,  True,  True,  True,  True,  True,\n",
       "        True,  True,  True,  True,  True,  True,  True,  True,  True,\n",
       "        True,  True,  True,  True,  True,  True,  True,  True, False,\n",
       "        True,  True,  True,  True,  True,  True,  True,  True,  True,\n",
       "        True,  True,  True,  True,  True,  True,  True,  True,  True,\n",
       "        True,  True,  True,  True,  True,  True,  True,  True,  True,\n",
       "        True,  True,  True,  True,  True,  True,  True,  True,  True,\n",
       "        True,  True,  True,  True,  True,  True,  True,  True,  True,\n",
       "        True,  True,  True,  True,  True,  True,  True,  True,  True,\n",
       "        True,  True,  True,  True,  True,  True,  True, False,  True,\n",
       "        True,  True,  True,  True,  True,  True,  True,  True,  True,\n",
       "        True, False,  True,  True,  True,  True,  True,  True,  True,\n",
       "        True,  True,  True,  True,  True,  True,  True,  True,  True,\n",
       "        True,  True,  True,  True,  True,  True,  True,  True,  True,\n",
       "        True,  True,  True,  True,  True,  True,  True, False,  True,\n",
       "        True,  True,  True,  True,  True,  True,  True,  True,  True,\n",
       "        True,  True,  True,  True,  True,  True,  True,  True,  True,\n",
       "        True,  True,  True,  True,  True])"
      ]
     },
     "execution_count": 106,
     "metadata": {},
     "output_type": "execute_result"
    }
   ],
   "source": [
    "surr_arr_m[:, 10]"
   ]
  },
  {
   "cell_type": "code",
   "execution_count": null,
   "metadata": {},
   "outputs": [],
   "source": []
  }
 ],
 "metadata": {
  "kernelspec": {
   "display_name": "Python 3",
   "language": "python",
   "name": "python3"
  },
  "language_info": {
   "codemirror_mode": {
    "name": "ipython",
    "version": 3
   },
   "file_extension": ".py",
   "mimetype": "text/x-python",
   "name": "python",
   "nbconvert_exporter": "python",
   "pygments_lexer": "ipython3",
   "version": "3.9.13"
  }
 },
 "nbformat": 4,
 "nbformat_minor": 2
}
