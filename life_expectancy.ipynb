{
 "cells": [
  {
   "cell_type": "code",
   "execution_count": 60,
   "metadata": {},
   "outputs": [],
   "source": [
    "# Data Sources: World Health Organization (WHO) Global Health Observatory Data / http://pophealthmetrics.biomedcentral.com/articles/10.1186/s12963-016-0094-0#Sec7"
   ]
  },
  {
   "cell_type": "code",
   "execution_count": 72,
   "metadata": {},
   "outputs": [],
   "source": [
    "import pandas as pd\n",
    "from scipy import stats"
   ]
  },
  {
   "cell_type": "code",
   "execution_count": 73,
   "metadata": {},
   "outputs": [],
   "source": [
    "# Take the global std values for males and females\n",
    "std_males = 5.6\n",
    "std_females = 3.6"
   ]
  },
  {
   "cell_type": "code",
   "execution_count": 74,
   "metadata": {},
   "outputs": [],
   "source": [
    "def get_life_expectancy(country, input_age, sex,\n",
    "                        std_males=5.6, std_females=3.6):\n",
    "    # load WHO longevity data\n",
    "    life_exp_data = pd.read_csv('https://apps.who.int/gho/athena/data/GHO/WHOSIS_000001,WHOSIS_000015?filter=COUNTRY:*&x-sideaxis=COUNTRY;YEAR&x-topaxis=GHO;SEX&profile=verbose&format=csv')\n",
    "    # Keep only useful features fix case display of country text\n",
    "    life_exp_data = life_exp_data[[\"GHO (DISPLAY)\", \"YEAR (CODE)\", \"COUNTRY (DISPLAY)\", \n",
    "                                   \"SEX (DISPLAY)\", \"Numeric\"]]\n",
    "\n",
    "    sub_data = life_exp_data[life_exp_data[\"COUNTRY (DISPLAY)\"] == country]\n",
    "    sub_data = sub_data[sub_data['SEX (DISPLAY)'] == sex]\n",
    "\n",
    "\n",
    "    sub_data.sort_values(by='YEAR (CODE)', ascending=False, inplace=True)\n",
    "    birth_expectancy = sub_data[sub_data['GHO (DISPLAY)'] == \"Life expectancy at birth (years)\"].values[0][-1]\n",
    "    sixty_year_expectancy = sub_data[sub_data['GHO (DISPLAY)'] == \"Life expectancy at age 60 (years)\"].values[0][-1]\n",
    "    ages = [0,60]\n",
    "    life_expectancies = [birth_expectancy, sixty_year_expectancy]\n",
    "    slope, intercept, _, _, _ = stats.linregress(ages, life_expectancies)\n",
    "\n",
    "    life_mean = slope * input_age + intercept\n",
    "\n",
    "\n",
    "    life_std = std_males if sex == 'Male' else std_females\n",
    "    return life_mean, life_std"
   ]
  },
  {
   "cell_type": "code",
   "execution_count": 75,
   "metadata": {},
   "outputs": [],
   "source": [
    "country = 'United States of America'\n",
    "sex = 'Male'\n",
    "age = 50.0"
   ]
  },
  {
   "cell_type": "code",
   "execution_count": 76,
   "metadata": {},
   "outputs": [
    {
     "data": {
      "text/plain": [
       "(30.866981666666668, 5.6)"
      ]
     },
     "execution_count": 76,
     "metadata": {},
     "output_type": "execute_result"
    }
   ],
   "source": [
    "get_life_expectancy(country, age, sex)"
   ]
  }
 ],
 "metadata": {
  "kernelspec": {
   "display_name": "Python 3",
   "language": "python",
   "name": "python3"
  },
  "language_info": {
   "codemirror_mode": {
    "name": "ipython",
    "version": 3
   },
   "file_extension": ".py",
   "mimetype": "text/x-python",
   "name": "python",
   "nbconvert_exporter": "python",
   "pygments_lexer": "ipython3",
   "version": "3.9.13"
  }
 },
 "nbformat": 4,
 "nbformat_minor": 2
}
