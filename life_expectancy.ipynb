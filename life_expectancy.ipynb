{
 "cells": [
  {
   "cell_type": "code",
   "execution_count": 60,
   "metadata": {},
   "outputs": [],
   "source": [
    "# Data Sources: World Health Organization (WHO) Global Health Observatory Data / http://pophealthmetrics.biomedcentral.com/articles/10.1186/s12963-016-0094-0#Sec7"
   ]
  },
  {
   "cell_type": "code",
   "execution_count": 5,
   "metadata": {},
   "outputs": [],
   "source": [
    "import pandas as pd\n",
    "from scipy import stats"
   ]
  },
  {
   "cell_type": "code",
   "execution_count": 42,
   "metadata": {},
   "outputs": [],
   "source": [
    "def get_life_exp_vals(country, input_age, sex,\n",
    "                        STD_MALES=5.6, STD_FEMALES=3.6):\n",
    "    # load WHO longevity data\n",
    "    life_exp_data = pd.read_csv('https://apps.who.int/gho/athena/data/GHO/WHOSIS_000001,WHOSIS_000015?filter=COUNTRY:*&x-sideaxis=COUNTRY;YEAR&x-topaxis=GHO;SEX&profile=verbose&format=csv')\n",
    "    # Keep only useful features fix case display of country text\n",
    "    life_exp_data = life_exp_data[[\"GHO (DISPLAY)\", \"YEAR (CODE)\", \"COUNTRY (DISPLAY)\", \n",
    "                                   \"SEX (DISPLAY)\", \"Numeric\"]]\n",
    "\n",
    "    sub_data = life_exp_data[life_exp_data[\"COUNTRY (DISPLAY)\"] == country]\n",
    "    sub_data = sub_data[sub_data['SEX (DISPLAY)'] == sex]\n",
    "\n",
    "\n",
    "    sub_data.sort_values(by='YEAR (CODE)', ascending=False, inplace=True)\n",
    "    birth_expectancy = sub_data[sub_data['GHO (DISPLAY)'] == \"Life expectancy at birth (years)\"].values[0][-1]\n",
    "    sixty_year_expectancy = sub_data[sub_data['GHO (DISPLAY)'] == \"Life expectancy at age 60 (years)\"].values[0][-1]\n",
    "    ages = [0,60]\n",
    "    life_expectancies = [birth_expectancy, sixty_year_expectancy]\n",
    "    slope, intercept, _, _, _ = stats.linregress(ages, life_expectancies)\n",
    "\n",
    "    #life_mean = slope * input_age + intercept\n",
    "\n",
    "\n",
    "    life_std = STD_MALES if sex == 'Male' else STD_FEMALES\n",
    "    return slope, intercept, life_std"
   ]
  },
  {
   "cell_type": "code",
   "execution_count": 43,
   "metadata": {},
   "outputs": [],
   "source": [
    "country = 'United States of America'\n",
    "sex = 'Male'\n",
    "age = 50.0"
   ]
  },
  {
   "cell_type": "code",
   "execution_count": 44,
   "metadata": {},
   "outputs": [],
   "source": [
    "life_slope, life_intercept, life_std = get_life_exp_vals(country, age, sex)"
   ]
  },
  {
   "cell_type": "code",
   "execution_count": 46,
   "metadata": {},
   "outputs": [],
   "source": [
    "def survival_prob_next_year(age, life_slope, life_intercept, life_std):\n",
    "    life_mean = life_slope * age + life_intercept + age\n",
    "    prob_survival_till_now = 1 - stats.norm.cdf(age, loc=life_mean, scale=life_std)\n",
    "    prob_survival_next_year = 1 - stats.norm.cdf(age + 1, loc=life_mean, scale=life_std)\n",
    "    return prob_survival_next_year / prob_survival_till_now\n",
    "\n",
    "def survival_prob_next_month(age, life_slope, life_intercept, life_std):\n",
    "    life_mean = life_slope * age + life_intercept\n",
    "    prob_survival_till_now = 1 - stats.norm.cdf(age, loc=life_mean, scale=life_std)\n",
    "    prob_survival_next_month = 1 - stats.norm.cdf(age + (1 / 12), loc=life_mean, scale=life_std)\n",
    "    return prob_survival_next_month / prob_survival_till_now"
   ]
  },
  {
   "cell_type": "code",
   "execution_count": null,
   "metadata": {},
   "outputs": [],
   "source": [
    "for age in range(124, 150):\n",
    "    print(\"{}: {}\".format(age, survival_prob_next_year(age, life_slope, life_intercept, life_std)))"
   ]
  },
  {
   "cell_type": "code",
   "execution_count": null,
   "metadata": {},
   "outputs": [],
   "source": [
    "def survival_array():\n",
    "    # should return an array that is True for every datapoint on which the person is alive and false on every datapoint on which the person is dead\n",
    "    pass"
   ]
  }
 ],
 "metadata": {
  "kernelspec": {
   "display_name": "Python 3",
   "language": "python",
   "name": "python3"
  },
  "language_info": {
   "codemirror_mode": {
    "name": "ipython",
    "version": 3
   },
   "file_extension": ".py",
   "mimetype": "text/x-python",
   "name": "python",
   "nbconvert_exporter": "python",
   "pygments_lexer": "ipython3",
   "version": "3.9.13"
  }
 },
 "nbformat": 4,
 "nbformat_minor": 2
}
