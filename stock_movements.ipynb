{
 "cells": [
  {
   "cell_type": "code",
   "execution_count": 1,
   "metadata": {},
   "outputs": [],
   "source": [
    "# All imports\n",
    "import numpy as np\n",
    "import matplotlib.pyplot as plt"
   ]
  },
  {
   "cell_type": "code",
   "execution_count": 4,
   "metadata": {},
   "outputs": [],
   "source": [
    "start_price = 131\n",
    "# percentage volatility or annualized volatility\n",
    "vola = 0.25\n",
    "# Overall trend or average return per year\n",
    "drift = 0.35 \n",
    "# Total number of simulations\n",
    "n_simul = 1000 \n",
    "# Assumption 252 trading days\n",
    "delta = 1.0 / 252.0\n",
    "# Runtime in days\n",
    "runtime = 252 * 5"
   ]
  },
  {
   "cell_type": "code",
   "execution_count": 6,
   "metadata": {},
   "outputs": [],
   "source": [
    "def brownian_motion(delta, vola, runtime, n_simul):\n",
    "    # standard deviation or scale is sqrt of volatiliy for brownian motion\n",
    "    return vola * np.random.normal(loc=0, scale=np.sqrt(delta),\n",
    "                                   size=(runtime, n_simul))"
   ]
  },
  {
   "cell_type": "code",
   "execution_count": 7,
   "metadata": {},
   "outputs": [],
   "source": [
    "# Random geometric motion returns\n",
    "def rgm_returns(delta, vola, runtime, drift, n_simul):\n",
    "    motion = brownian_motion(delta, vola, runtime, n_simul)\n",
    "    return np.exp(motion + (drift - vola ** 2 / 2) * delta)"
   ]
  },
  {
   "cell_type": "code",
   "execution_count": 8,
   "metadata": {},
   "outputs": [],
   "source": [
    "def rgm_levels(start_price, delta, vola, runtime, drift, n_simul):\n",
    "    returns = rgm_returns(delta, vola, runtime, drift, n_simul)\n",
    "    stacked = np.vstack([np.ones(n_simul), returns]) # prepends 1 infront of all returns\n",
    "    return start_price * stacked.cumprod(axis=0)"
   ]
  },
  {
   "cell_type": "code",
   "execution_count": 9,
   "metadata": {},
   "outputs": [],
   "source": [
    "stock_prices = rgm_levels(start_price, delta, \n",
    "                          vola, runtime, drift, \n",
    "                          n_simul)"
   ]
  },
  {
   "cell_type": "code",
   "execution_count": null,
   "metadata": {},
   "outputs": [],
   "source": [
    "plt.plot(stock_prices, linewidth=0.25)\n",
    "plt.show()"
   ]
  }
 ],
 "metadata": {
  "kernelspec": {
   "display_name": "Python 3",
   "language": "python",
   "name": "python3"
  },
  "language_info": {
   "codemirror_mode": {
    "name": "ipython",
    "version": 3
   },
   "file_extension": ".py",
   "mimetype": "text/x-python",
   "name": "python",
   "nbconvert_exporter": "python",
   "pygments_lexer": "ipython3",
   "version": "3.9.13"
  }
 },
 "nbformat": 4,
 "nbformat_minor": 2
}
