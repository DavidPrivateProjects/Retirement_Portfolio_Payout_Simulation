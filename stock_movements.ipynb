{
 "cells": [
  {
   "cell_type": "code",
   "execution_count": 1,
   "metadata": {},
   "outputs": [],
   "source": [
    "# All imports\n",
    "import numpy as np\n",
    "import matplotlib.pyplot as plt"
   ]
  },
  {
   "cell_type": "code",
   "execution_count": 79,
   "metadata": {},
   "outputs": [],
   "source": [
    "start_price = 131\n",
    "# percentage volatility or annualized volatility\n",
    "vola = 0.25\n",
    "# Overall trend or average return per year\n",
    "drift = 0.35 \n",
    "# Total number of simulations\n",
    "n_simul = 1000\n",
    "# Assumption 252 trading days\n",
    "delta = 1.0 / 252.0\n",
    "# Simulation years\n",
    "sim_years = 5\n",
    "# Stockdays per year\n",
    "trad_days_per_year = 252\n",
    "# Runtime in days\n",
    "runtime = trad_days_per_year * sim_years - 1"
   ]
  },
  {
   "cell_type": "code",
   "execution_count": 64,
   "metadata": {},
   "outputs": [],
   "source": [
    "def brownian_motion(delta, vola, runtime, n_simul):\n",
    "    # standard deviation or scale is sqrt of volatiliy for brownian motion\n",
    "    return vola * np.random.normal(loc=0, scale=np.sqrt(delta),\n",
    "                                   size=(runtime, n_simul))"
   ]
  },
  {
   "cell_type": "code",
   "execution_count": 65,
   "metadata": {},
   "outputs": [],
   "source": [
    "# Random geometric motion returns\n",
    "def rgm_returns(delta, vola, runtime, drift, n_simul):\n",
    "    motion = brownian_motion(delta, vola, runtime, n_simul)\n",
    "    return np.exp(motion + (drift - vola ** 2 / 2) * delta)"
   ]
  },
  {
   "cell_type": "code",
   "execution_count": 66,
   "metadata": {},
   "outputs": [],
   "source": [
    "def rgm_stock_movements(start_price, delta, vola, \n",
    "                        runtime, drift, n_simul):\n",
    "    returns = rgm_returns(delta, vola, runtime, drift, n_simul)\n",
    "    stacked = np.vstack([np.ones(n_simul), returns]) # prepends 1 infront of all returns\n",
    "    return start_price * stacked.cumprod(axis=0)"
   ]
  },
  {
   "cell_type": "code",
   "execution_count": null,
   "metadata": {},
   "outputs": [],
   "source": [
    "stock_prices = rgm_stock_movements(start_price, delta, \n",
    "                                   vola, runtime, drift, \n",
    "                                   n_simul)"
   ]
  },
  {
   "cell_type": "code",
   "execution_count": null,
   "metadata": {},
   "outputs": [],
   "source": [
    "plt.plot(stock_prices, linewidth=0.25)\n",
    "plt.show()"
   ]
  },
  {
   "cell_type": "code",
   "execution_count": 69,
   "metadata": {},
   "outputs": [],
   "source": [
    "# This code shows one line on the stock projections\n",
    "example_stock_flow = stock_prices[:, 0]"
   ]
  },
  {
   "cell_type": "code",
   "execution_count": 70,
   "metadata": {},
   "outputs": [],
   "source": [
    "# Withdrawal rate is yearly and after the first year!\n",
    "yearly_withdrawels = True\n",
    "withdraw_after_year = True\n",
    "\n",
    "\n",
    "# Money is taken out of the account after one year\n",
    "withdrawel_rate = 0.04\n",
    "\n",
    "# Create an index array, that is used for later withdrawals\n",
    "example_stock_flow_index = np.arange(1, runtime+2)\n",
    "\n",
    "# show an example withdrawel array for example_stock_flow\n",
    "example_withdrawals = np.where(example_stock_flow_index % 252 == 0, example_stock_flow * withdrawel_rate, 0)"
   ]
  },
  {
   "cell_type": "code",
   "execution_count": null,
   "metadata": {},
   "outputs": [],
   "source": [
    "# control print statements\n",
    "print(example_stock_flow_index.shape)\n",
    "print(example_stock_flow.shape)\n",
    "print(example_withdrawals[251])\n",
    "print(example_withdrawals[503])\n",
    "print(example_withdrawals[755])\n",
    "print(example_withdrawals[1007])\n",
    "print(example_withdrawals[1259])"
   ]
  },
  {
   "cell_type": "code",
   "execution_count": null,
   "metadata": {},
   "outputs": [],
   "source": [
    "total_withdrawals = np.sum(example_withdrawals)\n",
    "avg_withdrawals = total_withdrawals / sim_years\n",
    "\n",
    "print(total_withdrawals)\n",
    "print(avg_withdrawals)"
   ]
  },
  {
   "cell_type": "code",
   "execution_count": null,
   "metadata": {},
   "outputs": [],
   "source": [
    "example_stock_flow_index"
   ]
  },
  {
   "cell_type": "code",
   "execution_count": null,
   "metadata": {},
   "outputs": [],
   "source": [
    "example_withdrawals"
   ]
  },
  {
   "cell_type": "code",
   "execution_count": 76,
   "metadata": {},
   "outputs": [],
   "source": [
    "def w_returns(withdrawel_rate, runtime):\n",
    "    # Creates an index array to know when to withdraw\n",
    "    index_arr = np.arange(1, runtime+2)\n",
    "\n",
    "    # show an example withdrawel array for example_stock_flow\n",
    "    returns = np.where(index_arr % trad_days_per_year == 0, -withdrawel_rate, 0)\n",
    "    return returns"
   ]
  },
  {
   "cell_type": "code",
   "execution_count": null,
   "metadata": {},
   "outputs": [],
   "source": [
    "example_withdrawals = w_returns(withdrawel_rate, runtime)\n",
    "example_withdrawals = np.expand_dims(example_withdrawals, axis=1)\n",
    "example_withdrawals = np.repeat(example_withdrawals, axis=1, repeats=1000)\n",
    "example_withdrawals[:, 80]"
   ]
  },
  {
   "cell_type": "code",
   "execution_count": 111,
   "metadata": {},
   "outputs": [],
   "source": [
    "def rgm_stock_mov_plus_withdrawal(start_price, delta, vola, \n",
    "                                  runtime, drift, n_simul,\n",
    "                                  withdrawel_rate):\n",
    "    market_returns = rgm_returns(delta, vola, runtime, drift, n_simul)\n",
    "    withdrawal_returns = w_returns(withdrawel_rate, runtime)\n",
    "    \n",
    "    # prepends 1 infront of all market returns\n",
    "    market_returns_stacked = np.vstack([np.ones(n_simul), market_returns])\n",
    "    \n",
    "    withdrawal_returns = np.expand_dims(withdrawal_returns, axis=1)\n",
    "    withdrawal_returns = np.repeat(withdrawal_returns, axis=1, repeats=n_simul)\n",
    "\n",
    "    tot_returns = market_returns_stacked + withdrawal_returns\n",
    "    return start_price * tot_returns.cumprod(axis=0)"
   ]
  },
  {
   "cell_type": "code",
   "execution_count": 126,
   "metadata": {},
   "outputs": [],
   "source": [
    "stock_prices = rgm_stock_mov_plus_withdrawal(start_price, delta, \n",
    "                                            vola, runtime, drift, \n",
    "                                            n_simul, withdrawel_rate=0.16)"
   ]
  },
  {
   "cell_type": "code",
   "execution_count": null,
   "metadata": {},
   "outputs": [],
   "source": [
    "plt.plot(stock_prices, linewidth=0.25)\n",
    "plt.show()"
   ]
  },
  {
   "cell_type": "code",
   "execution_count": null,
   "metadata": {},
   "outputs": [],
   "source": [
    "# Notes David:\n",
    "# Next step, when zero, make total return equal to 0 for period after!\n",
    "# Calculate total withdrawals made during the time!\n",
    "# Start working on dinamic plot"
   ]
  }
 ],
 "metadata": {
  "kernelspec": {
   "display_name": "base",
   "language": "python",
   "name": "python3"
  },
  "language_info": {
   "codemirror_mode": {
    "name": "ipython",
    "version": 3
   },
   "file_extension": ".py",
   "mimetype": "text/x-python",
   "name": "python",
   "nbconvert_exporter": "python",
   "pygments_lexer": "ipython3",
   "version": "3.8.8"
  }
 },
 "nbformat": 4,
 "nbformat_minor": 2
}
