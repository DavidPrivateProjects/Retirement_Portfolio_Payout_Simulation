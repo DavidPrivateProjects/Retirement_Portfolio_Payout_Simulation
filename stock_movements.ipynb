{
 "cells": [
  {
   "cell_type": "code",
   "execution_count": 411,
   "metadata": {},
   "outputs": [],
   "source": [
    "# All imports\n",
    "import numpy as np\n",
    "import matplotlib.pyplot as plt\n",
    "import yfinance as yf"
   ]
  },
  {
   "cell_type": "code",
   "execution_count": 412,
   "metadata": {},
   "outputs": [],
   "source": [
    "# Start price of the simulation!\n",
    "start_price = 100\n",
    "\n",
    "\n",
    "# Stockdays per year\n",
    "days_per_year = 252\n",
    "\n",
    "\n",
    "# Total number of simulations\n",
    "n_simul = 500\n",
    "\n",
    "# Simulation years\n",
    "sim_years = 30\n",
    "\n",
    "# Runtime in days\n",
    "runtime = days_per_year * sim_years - 1\n",
    "\n",
    "# Withdrawal rate is yearly and after the first year!\n",
    "yearly_withdrawels = True # If false, then monthly withdrawals\n",
    "withdraw_after_first_year = True # If false, withdrawal starts with the simulation\n",
    "\n",
    "\n",
    "# Money is taken out of the account after one year\n",
    "withdrawel_rate = 0.08"
   ]
  },
  {
   "cell_type": "code",
   "execution_count": null,
   "metadata": {},
   "outputs": [],
   "source": [
    "# Find the mean daily Return of NDX and it's standard deviation\n",
    "ndx_df = yf.download(\"NDX\", auto_adjust=False)\n",
    "\n",
    "# Log is used to normalize the daily returns\n",
    "ndx_returns = np.log(1 + ndx_df['Adj Close'].pct_change())\n",
    "\n",
    "ndx_mu, ndx_sigma = ndx_returns.mean(), ndx_returns.std()"
   ]
  },
  {
   "cell_type": "code",
   "execution_count": null,
   "metadata": {},
   "outputs": [],
   "source": [
    "def brown_motion_drift(start_price, mu, sigma, runtime, n_simul):\n",
    "    sim_returns = np.random.normal(mu, sigma, \n",
    "                                size=(runtime, n_simul))\n",
    "\n",
    "    stacked_returns = np.vstack([np.zeros(n_simul), sim_returns]) # prepends 1 infront of all returns\n",
    "    sim_prices = start_price * (stacked_returns + 1).cumprod(axis=0)\n",
    "    return sim_prices\n",
    "\n",
    "sim_prices = brown_motion_drift(start_price, ndx_mu, ndx_sigma, runtime, n_simul)\n",
    "\n",
    "\n",
    "plt.plot(sim_prices, linewidth=0.25)\n",
    "plt.show()"
   ]
  },
  {
   "cell_type": "code",
   "execution_count": 415,
   "metadata": {},
   "outputs": [],
   "source": [
    "def withdrawels_per_year(withdrawel_rate, start_price):\n",
    "    return withdrawel_rate * start_price\n",
    "    \n",
    "    \n",
    "def total_withdrawels(withdrawel_rate, start_price, years_till_bust):\n",
    "    return withdrawels_per_year(withdrawel_rate, start_price) * years_till_bust\n",
    "    "
   ]
  },
  {
   "cell_type": "code",
   "execution_count": 416,
   "metadata": {},
   "outputs": [],
   "source": [
    "def brown_motion_drift_plus_wd(start_price, mu, sigma, \n",
    "                               runtime, n_simul, days_per_year,\n",
    "                               sim_years, yearly_withdrawels,\n",
    "                               withdraw_after_first_year):\n",
    "    \n",
    "    sim_returns = np.random.normal(mu, sigma, \n",
    "                                size=(runtime, n_simul))\n",
    "\n",
    "    stacked_returns = np.vstack([np.zeros(n_simul), sim_returns]) # prepends 1 infront of all returns\n",
    "    \n",
    "    sim_prices = start_price * (stacked_returns + 1).cumprod(axis=0)\n",
    "    \n",
    "\n",
    "    if withdraw_after_first_year:\n",
    "        if yearly_withdrawels:\n",
    "            index_arr = np.arange(0, sim_years)\n",
    "            index_arr = np.repeat(index_arr, days_per_year)\n",
    "        else:\n",
    "            index_arr = np.arange(1, (sim_years-1)*12+1)\n",
    "            index_arr = np.repeat(index_arr, days_per_year/12)\n",
    "            index_arr = np.concatenate([np.zeros(days_per_year), index_arr], axis=0)\n",
    "    else:\n",
    "        if yearly_withdrawels:\n",
    "            index_arr = np.arange(1, sim_years+1)\n",
    "            index_arr = np.repeat(index_arr, days_per_year)\n",
    "        else:\n",
    "            index_arr = np.arange(1, (sim_years) * 12 + 1)\n",
    "            index_arr = np.repeat(index_arr, days_per_year/12)\n",
    "\n",
    "    \n",
    "    if yearly_withdrawels:\n",
    "        withdrawal_returns = - index_arr * start_price * withdrawel_rate\n",
    "    else:\n",
    "        withdrawal_returns = - index_arr * start_price * (withdrawel_rate / 12)\n",
    "\n",
    "\n",
    "    # Same for all simulations\n",
    "    withdrawal_returns = np.expand_dims(withdrawal_returns, axis=1)\n",
    "    withdrawal_returns = np.repeat(withdrawal_returns, axis=1, repeats=n_simul)\n",
    "\n",
    "    \n",
    "    sim_prices += withdrawal_returns\n",
    "\n",
    "    return sim_prices"
   ]
  },
  {
   "cell_type": "code",
   "execution_count": 417,
   "metadata": {},
   "outputs": [],
   "source": [
    "\n",
    "stock_prices = brown_motion_drift_plus_wd(start_price, ndx_mu, ndx_sigma, \n",
    "                                          runtime, n_simul, days_per_year,\n",
    "                                          sim_years, yearly_withdrawels=True,\n",
    "                                          withdraw_after_first_year=False)"
   ]
  },
  {
   "cell_type": "code",
   "execution_count": null,
   "metadata": {},
   "outputs": [],
   "source": [
    "plt.plot(stock_prices)"
   ]
  },
  {
   "cell_type": "code",
   "execution_count": 425,
   "metadata": {},
   "outputs": [],
   "source": [
    "\n",
    "def find_zero_points(stock_prices, n_simul):\n",
    "    portfolio_is_lost = []\n",
    "    portfolio_loss_idx = []\n",
    "    for i in range(0, n_simul):\n",
    "        zero_points = np.where(stock_prices[:, i] < 0)[0]\n",
    "        if len(zero_points) == 0:\n",
    "            portfolio_is_lost.append(False)\n",
    "            portfolio_loss_idx.append(-1)\n",
    "        else:\n",
    "            portfolio_is_lost.append(True)\n",
    "            portfolio_loss_idx.append(zero_points[0])\n",
    "\n",
    "    \n",
    "    return portfolio_is_lost, portfolio_loss_idx\n",
    "\n",
    "def loss_probability(portfolio_is_lost):\n",
    "    return np.mean(portfolio_is_lost)\n",
    "\n",
    "def average_loss_point(portfolio_loss_idx):\n",
    "    result = []\n",
    "    for value in portfolio_loss_idx:\n",
    "        if value != -1:\n",
    "            result.append(value)\n",
    "\n",
    "    return np.mean(result)    "
   ]
  },
  {
   "cell_type": "code",
   "execution_count": null,
   "metadata": {},
   "outputs": [],
   "source": [
    "def total_withdrawels_before_loss():\n",
    "    pass"
   ]
  },
  {
   "cell_type": "code",
   "execution_count": 420,
   "metadata": {},
   "outputs": [],
   "source": [
    "portfolio_is_lost, portfolio_loss_idx = find_zero_points(stock_prices, n_simul)"
   ]
  },
  {
   "cell_type": "code",
   "execution_count": null,
   "metadata": {},
   "outputs": [],
   "source": [
    "print(loss_probability(portfolio_is_lost))\n",
    "print(average_loss_point(portfolio_loss_idx) / 252)"
   ]
  },
  {
   "cell_type": "code",
   "execution_count": 421,
   "metadata": {},
   "outputs": [],
   "source": [
    "def plot_stock_with_loss_point(stock_prices, n_simul,\n",
    "                               portfolio_loss_idx):\n",
    "    for i in range(0, n_simul):\n",
    "        loss_idx = portfolio_loss_idx[i]\n",
    "        plt.plot(stock_prices[:loss_idx, i], \n",
    "                 linewidth=0.4)\n",
    "\n",
    "    plt.show()"
   ]
  },
  {
   "cell_type": "code",
   "execution_count": null,
   "metadata": {},
   "outputs": [],
   "source": [
    "plot_stock_with_loss_point(stock_prices, n_simul,\n",
    "                           portfolio_loss_idx)"
   ]
  },
  {
   "cell_type": "code",
   "execution_count": 423,
   "metadata": {},
   "outputs": [],
   "source": [
    "# Notes David:\n",
    "# Make the inflation fixed\n",
    "# Calculate total withdrawals made during the time!\n",
    "# Start working on dinamic plot"
   ]
  }
 ],
 "metadata": {
  "kernelspec": {
   "display_name": "Python 3",
   "language": "python",
   "name": "python3"
  },
  "language_info": {
   "codemirror_mode": {
    "name": "ipython",
    "version": 3
   },
   "file_extension": ".py",
   "mimetype": "text/x-python",
   "name": "python",
   "nbconvert_exporter": "python",
   "pygments_lexer": "ipython3",
   "version": "3.9.13"
  }
 },
 "nbformat": 4,
 "nbformat_minor": 2
}
