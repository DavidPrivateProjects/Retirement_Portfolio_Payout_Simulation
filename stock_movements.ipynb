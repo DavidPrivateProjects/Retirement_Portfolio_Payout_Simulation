{
 "cells": [
  {
   "cell_type": "code",
   "execution_count": 203,
   "metadata": {},
   "outputs": [],
   "source": [
    "# All imports\n",
    "import numpy as np\n",
    "import matplotlib.pyplot as plt\n",
    "import yfinance as yf"
   ]
  },
  {
   "cell_type": "code",
   "execution_count": 204,
   "metadata": {},
   "outputs": [],
   "source": [
    "# Start price of the simulation!\n",
    "start_price = 100\n",
    "\n",
    "\n",
    "# Stockdays per year\n",
    "days_per_year = 252\n",
    "\n",
    "\n",
    "# Total number of simulations\n",
    "n_simul = 5\n",
    "\n",
    "# Simulation years\n",
    "sim_years = 5\n",
    "\n",
    "# Runtime in days\n",
    "runtime = days_per_year * sim_years - 1\n",
    "\n",
    "# Withdrawal rate is yearly and after the first year!\n",
    "yearly_withdrawels = True\n",
    "withdraw_after_year = True\n",
    "\n",
    "\n",
    "# Money is taken out of the account after one year\n",
    "withdrawel_rate = 0.2"
   ]
  },
  {
   "cell_type": "code",
   "execution_count": null,
   "metadata": {},
   "outputs": [],
   "source": [
    "# Find the mean daily Return of NDX and it's standard deviation\n",
    "ndx_df = yf.download(\"NDX\", auto_adjust=False)\n",
    "\n",
    "# Log is used to normalize the daily returns\n",
    "ndx_returns = np.log(1 + ndx_df['Adj Close'].pct_change())\n",
    "\n",
    "ndx_mu, ndx_sigma = ndx_returns.mean(), ndx_returns.std()"
   ]
  },
  {
   "cell_type": "code",
   "execution_count": null,
   "metadata": {},
   "outputs": [],
   "source": [
    "def brown_motion_drift(start_price, mu, sigma, runtime, n_simul):\n",
    "    sim_returns = np.random.normal(mu, sigma, \n",
    "                                size=(runtime, n_simul))\n",
    "\n",
    "    stacked_returns = np.vstack([np.zeros(n_simul), sim_returns]) # prepends 1 infront of all returns\n",
    "    sim_prices = start_price * (stacked_returns + 1).cumprod(axis=0)\n",
    "    return sim_prices\n",
    "\n",
    "sim_prices = brown_motion_drift(start_price, ndx_mu, ndx_sigma, runtime, n_simul)\n",
    "\n",
    "\n",
    "plt.plot(sim_prices, linewidth=0.25)\n",
    "plt.show()"
   ]
  },
  {
   "cell_type": "code",
   "execution_count": 207,
   "metadata": {},
   "outputs": [],
   "source": [
    "def withdrawels_per_year(withdrawel_rate, start_price):\n",
    "    return withdrawel_rate * start_price\n",
    "    \n",
    "    \n",
    "def total_withdrawels(withdrawel_rate, start_price, years_till_bust):\n",
    "    return withdrawels_per_year(withdrawel_rate, start_price) * years_till_bust\n",
    "    "
   ]
  },
  {
   "cell_type": "code",
   "execution_count": 218,
   "metadata": {},
   "outputs": [],
   "source": [
    "def brown_motion_drift_plus_wd(start_price, mu, sigma, \n",
    "                               runtime, n_simul, days_per_year,\n",
    "                               sim_years):\n",
    "    \n",
    "    sim_returns = np.random.normal(mu, sigma, \n",
    "                                size=(runtime, n_simul))\n",
    "\n",
    "    stacked_returns = np.vstack([np.zeros(n_simul), sim_returns]) # prepends 1 infront of all returns\n",
    "    \n",
    "    sim_prices = start_price * (stacked_returns + 1).cumprod(axis=0)\n",
    "    \n",
    "    print(sim_prices[251, :])\n",
    "\n",
    "    index_arr = np.arange(0, sim_years)\n",
    "    index_arr = np.repeat(index_arr, days_per_year)\n",
    "    withdrawal_returns = - index_arr * start_price * withdrawel_rate\n",
    "    \n",
    "\n",
    "\n",
    "    # Same for all simulations\n",
    "    withdrawal_returns = np.expand_dims(withdrawal_returns, axis=1)\n",
    "    withdrawal_returns = np.repeat(withdrawal_returns, axis=1, repeats=n_simul)\n",
    "\n",
    "    \n",
    "    sim_prices += withdrawal_returns\n",
    "\n",
    "    print(sim_prices.shape)\n",
    "\n",
    "    return sim_prices"
   ]
  },
  {
   "cell_type": "code",
   "execution_count": null,
   "metadata": {},
   "outputs": [],
   "source": [
    "\n",
    "stock_prices = brown_motion_drift_plus_wd(start_price, ndx_mu, ndx_sigma, \n",
    "                                          runtime, n_simul, days_per_year,\n",
    "                                          sim_years)"
   ]
  },
  {
   "cell_type": "code",
   "execution_count": null,
   "metadata": {},
   "outputs": [],
   "source": [
    "plt.plot(stock_prices, linewidth=0.25)\n",
    "plt.show()"
   ]
  },
  {
   "cell_type": "code",
   "execution_count": 212,
   "metadata": {},
   "outputs": [],
   "source": [
    "# Notes David:\n",
    "# Withdrawal should not be a percentage of current wealth, but percentage of initial wealth + inflation!\n",
    "# In this scenario, Inflation is fixed!\n",
    "# Next step, when zero, make total return equal to 0 for period after!\n",
    "# Calculate total withdrawals made during the time!\n",
    "# Start working on dinamic plot\n",
    "# Implementation only allows for yearly withdrawals and only a withdrawal after the first year!"
   ]
  }
 ],
 "metadata": {
  "kernelspec": {
   "display_name": "Python 3",
   "language": "python",
   "name": "python3"
  },
  "language_info": {
   "codemirror_mode": {
    "name": "ipython",
    "version": 3
   },
   "file_extension": ".py",
   "mimetype": "text/x-python",
   "name": "python",
   "nbconvert_exporter": "python",
   "pygments_lexer": "ipython3",
   "version": "3.9.13"
  }
 },
 "nbformat": 4,
 "nbformat_minor": 2
}
